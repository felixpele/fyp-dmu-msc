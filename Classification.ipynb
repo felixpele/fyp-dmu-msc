{
 "cells": [
  {
   "cell_type": "code",
   "execution_count": 3,
   "metadata": {},
   "outputs": [],
   "source": [
    "# Imports\n",
    "import pandas as pd\n",
    "from sklearn.model_selection import train_test_split\n",
    "from sklearn.feature_extraction.text import TfidfVectorizer\n",
    "from sklearn.svm import SVC\n",
    "from sklearn.metrics import accuracy_score, classification_report, confusion_matrix\n",
    "from sklearn.linear_model import LogisticRegression\n",
    "from sklearn.naive_bayes import MultinomialNB\n",
    "from sklearn.model_selection import GridSearchCV\n",
    "from sklearn.pipeline import Pipeline\n",
    "from sklearn.naive_bayes import ComplementNB\n",
    "from sklearn.tree import DecisionTreeClassifier\n",
    "from sklearn.ensemble import RandomForestClassifier\n",
    "from catboost import CatBoostClassifier\n",
    "import xgboost as xgb\n",
    "import lightgbm as lgb\n",
    "import seaborn as sns\n",
    "import matplotlib.pyplot as plt"
   ]
  },
  {
   "cell_type": "code",
   "execution_count": 4,
   "metadata": {},
   "outputs": [],
   "source": [
    "# Load the dataset (replace 'tweets.csv' with your dataset)\n",
    "df = pd.read_csv(\"Covid-19 Twitter Dataset (Apr-Jun 2021).csv\")\n",
    "df = df[df['clean_tweet'].notnull()]"
   ]
  },
  {
   "cell_type": "code",
   "execution_count": 5,
   "metadata": {},
   "outputs": [
    {
     "name": "stdout",
     "output_type": "stream",
     "text": [
      "sentiment\n",
      "neu    65370\n",
      "pos    44756\n",
      "neg    36401\n",
      "Name: count, dtype: int64\n"
     ]
    }
   ],
   "source": [
    "print(df['sentiment'].value_counts())"
   ]
  },
  {
   "cell_type": "code",
   "execution_count": 6,
   "metadata": {},
   "outputs": [],
   "source": [
    "# Splitting the dataset\n",
    "X_train, X_test, y_train, y_test = train_test_split(df['clean_tweet'], df['sentiment'], test_size=0.2, random_state=42)"
   ]
  },
  {
   "cell_type": "code",
   "execution_count": 7,
   "metadata": {},
   "outputs": [],
   "source": [
    "# Extract features using TF-IDF vectorizer\n",
    "vectorizer = TfidfVectorizer(max_features=3000)  # Adjust max_features as needed\n",
    "X_train_vectorized = vectorizer.fit_transform(X_train)\n",
    "X_test_vectorized = vectorizer.transform(X_test)"
   ]
  },
  {
   "cell_type": "code",
   "execution_count": 8,
   "metadata": {},
   "outputs": [
    {
     "name": "stdout",
     "output_type": "stream",
     "text": [
      "Accuracy: 0.8893741895857503\n",
      "Classification Report:\n",
      "              precision    recall  f1-score   support\n",
      "\n",
      "         neg       0.88      0.79      0.83      7211\n",
      "         neu       0.91      0.95      0.93     13192\n",
      "         pos       0.86      0.88      0.87      8903\n",
      "\n",
      "    accuracy                           0.89     29306\n",
      "   macro avg       0.88      0.87      0.88     29306\n",
      "weighted avg       0.89      0.89      0.89     29306\n",
      "\n"
     ]
    }
   ],
   "source": [
    "# MNB\n",
    "# Train Naive Bayes classifier\n",
    "naive_bayes_classifier = MultinomialNB()\n",
    "naive_bayes_classifier.fit(X_train_vectorized, y_train)\n",
    "\n",
    "# Predict sentiment labels for test set\n",
    "y_pred_NB = naive_bayes_classifier.predict(X_test_vectorized)\n",
    "\n",
    "# Evaluate performance\n",
    "accuracy_NB = accuracy_score(y_test, y_pred_NB)\n",
    "print(\"Accuracy:\", accuracy_NB)\n",
    "\n",
    "# Print classification report\n",
    "print(\"Classification Report:\")\n",
    "print(classification_report(y_test, y_pred_NB))"
   ]
  },
  {
   "cell_type": "markdown",
   "metadata": {},
   "source": [
    "### Hyperparameter Tuning"
   ]
  },
  {
   "cell_type": "code",
   "execution_count": 9,
   "metadata": {},
   "outputs": [
    {
     "name": "stdout",
     "output_type": "stream",
     "text": [
      "Fitting 5 folds for each of 600 candidates, totalling 3000 fits\n",
      "Best Parameters: {'nb__alpha': 1e-05, 'tfidf__max_df': 0.7, 'tfidf__max_features': 4000, 'tfidf__min_df': 5}\n",
      "Test Accuracy: 0.8956868900566437\n"
     ]
    }
   ],
   "source": [
    "# Define the pipeline\n",
    "pipeline = Pipeline([\n",
    "    ('tfidf', TfidfVectorizer()),\n",
    "    ('nb', MultinomialNB())\n",
    "])\n",
    "\n",
    "# Define the hyperparameters to tune\n",
    "parameters = {\n",
    "    'tfidf__max_features': [1000, 2000, 3000, 4000, 5000],\n",
    "    'tfidf__min_df': [1, 2, 3, 4 , 5],\n",
    "    'tfidf__max_df': [0.5, 0.7, 0.9],\n",
    "    'nb__alpha': [0.00001, 0.0001, 0.001, 0.1, 1, 10, 100, 1000]\n",
    "}\n",
    "\n",
    "# Perform grid search with cross-validation\n",
    "grid_search = GridSearchCV(pipeline, parameters, cv=5, n_jobs=-1, verbose=1)\n",
    "grid_search.fit(X_train, y_train)\n",
    "\n",
    "# Print the best hyperparameters\n",
    "print(\"Best Parameters:\", grid_search.best_params_)\n",
    "\n",
    "# Evaluate the best model on the test set\n",
    "best_model = grid_search.best_estimator_\n",
    "y_pred_NB_Hyper = best_model.predict(X_test)\n",
    "accuracy_NB_Hyper = accuracy_score(y_test, y_pred_NB_Hyper)\n",
    "print(\"Test Accuracy:\", accuracy_NB_Hyper)"
   ]
  },
  {
   "cell_type": "code",
   "execution_count": 10,
   "metadata": {},
   "outputs": [
    {
     "name": "stdout",
     "output_type": "stream",
     "text": [
      "Accuracy: 0.8956868900566437\n",
      "Classification Report:\n",
      "              precision    recall  f1-score   support\n",
      "\n",
      "         neg       0.86      0.82      0.84      7211\n",
      "         neu       0.94      0.94      0.94     13192\n",
      "         pos       0.85      0.89      0.87      8903\n",
      "\n",
      "    accuracy                           0.90     29306\n",
      "   macro avg       0.89      0.88      0.88     29306\n",
      "weighted avg       0.90      0.90      0.90     29306\n",
      "\n"
     ]
    }
   ],
   "source": [
    "# Optimum MNB\n",
    "# Extract features using TF-IDF vectorizer\n",
    "vectorizer_OMNB = TfidfVectorizer(max_features=4000, max_df=0.7, min_df=5)  # Adjust max_features as needed\n",
    "X_train_vectorized = vectorizer_OMNB.fit_transform(X_train)\n",
    "X_test_vectorized = vectorizer_OMNB.transform(X_test)\n",
    "\n",
    "# Train Naive Bayes classifier\n",
    "naive_bayes_classifier_optimum = MultinomialNB(alpha=0.00001)\n",
    "naive_bayes_classifier_optimum.fit(X_train_vectorized, y_train)\n",
    "\n",
    "# Predict sentiment labels for test set\n",
    "y_pred_OMNB = naive_bayes_classifier_optimum.predict(X_test_vectorized)\n",
    "\n",
    "# Evaluate performance\n",
    "accuracy_OMNB = accuracy_score(y_test, y_pred_OMNB)\n",
    "print(\"Accuracy:\", accuracy_OMNB)\n",
    "\n",
    "# Print classification report\n",
    "print(\"Classification Report:\")\n",
    "print(classification_report(y_test, y_pred_OMNB))"
   ]
  },
  {
   "cell_type": "code",
   "execution_count": 11,
   "metadata": {},
   "outputs": [
    {
     "name": "stdout",
     "output_type": "stream",
     "text": [
      "Accuracy: 0.9530812802839009\n",
      "Classification Report:\n",
      "              precision    recall  f1-score   support\n",
      "\n",
      "         neg       0.96      0.89      0.93      7211\n",
      "         neu       0.94      1.00      0.97     13192\n",
      "         pos       0.96      0.94      0.95      8903\n",
      "\n",
      "    accuracy                           0.95     29306\n",
      "   macro avg       0.96      0.94      0.95     29306\n",
      "weighted avg       0.95      0.95      0.95     29306\n",
      "\n"
     ]
    }
   ],
   "source": [
    "# Logistic Regression\n",
    "# Train logistic regression classifier\n",
    "logreg_classifier = LogisticRegression(multi_class='ovr')  # Change multi_class to 'multinomial' for multinomial logistic regression\n",
    "logreg_classifier.fit(X_train_vectorized, y_train)\n",
    "\n",
    "# Predict sentiment labels for test set\n",
    "y_pred_lr = logreg_classifier.predict(X_test_vectorized)\n",
    "\n",
    "# Evaluate performance\n",
    "accuracy_lr = accuracy_score(y_test, y_pred_lr)\n",
    "print(\"Accuracy:\", accuracy_lr)\n",
    "\n",
    "# Print classification report\n",
    "print(\"Classification Report:\")\n",
    "print(classification_report(y_test, y_pred_lr))"
   ]
  },
  {
   "cell_type": "code",
   "execution_count": 12,
   "metadata": {},
   "outputs": [
    {
     "name": "stdout",
     "output_type": "stream",
     "text": [
      "Accuracy: 0.9488500648331399\n",
      "Classification Report:\n",
      "              precision    recall  f1-score   support\n",
      "\n",
      "         neg       0.92      0.90      0.91      7211\n",
      "         neu       0.97      0.98      0.98     13192\n",
      "         pos       0.93      0.94      0.93      8903\n",
      "\n",
      "    accuracy                           0.95     29306\n",
      "   macro avg       0.94      0.94      0.94     29306\n",
      "weighted avg       0.95      0.95      0.95     29306\n",
      "\n"
     ]
    }
   ],
   "source": [
    "# Train Decision Tree classifier\n",
    "decision_tree_classifier = DecisionTreeClassifier()\n",
    "decision_tree_classifier.fit(X_train_vectorized, y_train)\n",
    "\n",
    "# Predict sentiment labels for test set\n",
    "y_pred_DT = decision_tree_classifier.predict(X_test_vectorized)\n",
    "\n",
    "# Evaluate performance\n",
    "accuracy_DT = accuracy_score(y_test, y_pred_DT)\n",
    "print(\"Accuracy:\", accuracy_DT)\n",
    "\n",
    "# Print classification report\n",
    "print(\"Classification Report:\")\n",
    "print(classification_report(y_test, y_pred_DT))"
   ]
  },
  {
   "cell_type": "code",
   "execution_count": 13,
   "metadata": {},
   "outputs": [
    {
     "name": "stdout",
     "output_type": "stream",
     "text": [
      "Accuracy: 0.9110421074182761\n",
      "Classification Report:\n",
      "              precision    recall  f1-score   support\n",
      "\n",
      "           0       0.97      0.80      0.87      7211\n",
      "           1       0.86      1.00      0.93     13192\n",
      "           2       0.96      0.88      0.92      8903\n",
      "\n",
      "    accuracy                           0.91     29306\n",
      "   macro avg       0.93      0.89      0.90     29306\n",
      "weighted avg       0.92      0.91      0.91     29306\n",
      "\n"
     ]
    }
   ],
   "source": [
    "from sklearn.preprocessing import LabelEncoder\n",
    "le = LabelEncoder()\n",
    "y_train_encoded = le.fit_transform(y_train)\n",
    "y_test_encoded = le.fit_transform(y_test)\n",
    "\n",
    "# Train XGBoost classifier\n",
    "xgb_classifier = xgb.XGBClassifier()\n",
    "xgb_classifier.fit(X_train_vectorized, y_train_encoded)\n",
    "\n",
    "# Predict sentiment labels for test set\n",
    "y_pred_XGB = xgb_classifier.predict(X_test_vectorized)\n",
    "\n",
    "# Evaluate performance\n",
    "accuracy_XGB = accuracy_score(y_test_encoded, y_pred_XGB)\n",
    "print(\"Accuracy:\", accuracy_XGB)\n",
    "\n",
    "# Print classification report\n",
    "print(\"Classification Report:\")\n",
    "print(classification_report(y_test_encoded, y_pred_XGB))"
   ]
  },
  {
   "cell_type": "code",
   "execution_count": 14,
   "metadata": {},
   "outputs": [
    {
     "name": "stdout",
     "output_type": "stream",
     "text": [
      "[LightGBM] [Info] Auto-choosing row-wise multi-threading, the overhead of testing was 0.208047 seconds.\n",
      "You can set `force_row_wise=true` to remove the overhead.\n",
      "And if memory is not enough, you can set `force_col_wise=true`.\n",
      "[LightGBM] [Info] Total Bins 229846\n",
      "[LightGBM] [Info] Number of data points in the train set: 117221, number of used features: 3998\n",
      "[LightGBM] [Info] Start training from score -1.390235\n",
      "[LightGBM] [Info] Start training from score -0.809400\n",
      "[LightGBM] [Info] Start training from score -1.184634\n",
      "Accuracy: 0.9488159421278919\n",
      "Classification Report:\n",
      "              precision    recall  f1-score   support\n",
      "\n",
      "           0       0.97      0.88      0.92      7211\n",
      "           1       0.93      1.00      0.96     13192\n",
      "           2       0.97      0.94      0.95      8903\n",
      "\n",
      "    accuracy                           0.95     29306\n",
      "   macro avg       0.95      0.94      0.94     29306\n",
      "weighted avg       0.95      0.95      0.95     29306\n",
      "\n"
     ]
    }
   ],
   "source": [
    "# Convert data to LightGBM Dataset format\n",
    "train_data = lgb.Dataset(X_train_vectorized, label=y_train_encoded)\n",
    "test_data = lgb.Dataset(X_test_vectorized, label=y_test_encoded)\n",
    "\n",
    "# Set parameters for LightGBM model\n",
    "params = {\n",
    "    'objective': 'multiclass',\n",
    "    'num_class': 3,  # Number of classes (sentiments)\n",
    "    'metric': 'multi_logloss'\n",
    "}\n",
    "\n",
    "# Train LightGBM model\n",
    "num_round = 100\n",
    "lgb_model = lgb.train(params, train_data, num_round, valid_sets=[test_data])\n",
    "\n",
    "# Predict sentiment labels for test set\n",
    "y_pred_LGBM = lgb_model.predict(X_test_vectorized).argmax(axis=1)\n",
    "\n",
    "# Evaluate performance\n",
    "accuracy_LGBM = accuracy_score(y_test_encoded, y_pred_LGBM)\n",
    "print(\"Accuracy:\", accuracy_LGBM)\n",
    "\n",
    "# Print classification report\n",
    "print(\"Classification Report:\")\n",
    "print(classification_report(y_test_encoded, y_pred_LGBM))"
   ]
  },
  {
   "cell_type": "code",
   "execution_count": 15,
   "metadata": {},
   "outputs": [
    {
     "name": "stdout",
     "output_type": "stream",
     "text": [
      "Accuracy: 0.7906913260083259\n",
      "Classification Report:\n",
      "              precision    recall  f1-score   support\n",
      "\n",
      "         neg       0.94      0.55      0.69      7211\n",
      "         neu       0.71      1.00      0.83     13192\n",
      "         pos       0.92      0.68      0.78      8903\n",
      "\n",
      "    accuracy                           0.79     29306\n",
      "   macro avg       0.86      0.74      0.77     29306\n",
      "weighted avg       0.83      0.79      0.78     29306\n",
      "\n"
     ]
    }
   ],
   "source": [
    "# Train CatBoost classifier\n",
    "catboost_classifier = CatBoostClassifier(iterations=100, learning_rate=0.1, depth=6, loss_function='MultiClass')\n",
    "catboost_classifier.fit(X_train_vectorized, y_train, verbose=0)\n",
    "\n",
    "# Predict sentiment labels for test set\n",
    "y_pred_CB = catboost_classifier.predict(X_test_vectorized)\n",
    "\n",
    "# Evaluate performance\n",
    "accuracy_CB = accuracy_score(y_test, y_pred_CB)\n",
    "print(\"Accuracy:\", accuracy_CB)\n",
    "\n",
    "# Print classification report\n",
    "print(\"Classification Report:\")\n",
    "print(classification_report(y_test, y_pred_CB))"
   ]
  },
  {
   "cell_type": "code",
   "execution_count": 16,
   "metadata": {},
   "outputs": [
    {
     "name": "stdout",
     "output_type": "stream",
     "text": [
      "Accuracy: 0.95929161263905\n",
      "Classification Report:\n",
      "              precision    recall  f1-score   support\n",
      "\n",
      "         neg       0.96      0.90      0.93      7211\n",
      "         neu       0.97      1.00      0.98     13192\n",
      "         pos       0.94      0.95      0.95      8903\n",
      "\n",
      "    accuracy                           0.96     29306\n",
      "   macro avg       0.96      0.95      0.95     29306\n",
      "weighted avg       0.96      0.96      0.96     29306\n",
      "\n"
     ]
    }
   ],
   "source": [
    "# Train Random Forest classifier\n",
    "random_forest_classifier = RandomForestClassifier(n_estimators=100, random_state=42)\n",
    "random_forest_classifier.fit(X_train_vectorized, y_train)\n",
    "\n",
    "# Predict sentiment labels for test set\n",
    "y_pred_RF = random_forest_classifier.predict(X_test_vectorized)\n",
    "\n",
    "# Evaluate performance\n",
    "accuracy_RF = accuracy_score(y_test, y_pred_RF)\n",
    "print(\"Accuracy:\", accuracy_RF)\n",
    "\n",
    "# Print classification report\n",
    "print(\"Classification Report:\")\n",
    "print(classification_report(y_test, y_pred_RF))"
   ]
  },
  {
   "cell_type": "code",
   "execution_count": 17,
   "metadata": {},
   "outputs": [
    {
     "name": "stdout",
     "output_type": "stream",
     "text": [
      "Accuracy: 0.9715075411178599\n",
      "Classification Report:\n",
      "              precision    recall  f1-score   support\n",
      "\n",
      "         neg       0.97      0.94      0.95      7211\n",
      "         neu       0.97      1.00      0.98     13192\n",
      "         pos       0.97      0.96      0.97      8903\n",
      "\n",
      "    accuracy                           0.97     29306\n",
      "   macro avg       0.97      0.97      0.97     29306\n",
      "weighted avg       0.97      0.97      0.97     29306\n",
      "\n"
     ]
    }
   ],
   "source": [
    "# Train SVM classifier\n",
    "svm_classifier = SVC(kernel='linear')\n",
    "svm_classifier.fit(X_train_vectorized, y_train)\n",
    "\n",
    "# Predict sentiment labels for test set\n",
    "y_pred = svm_classifier.predict(X_test_vectorized)\n",
    "\n",
    "# Evaluate performance\n",
    "accuracy = accuracy_score(y_test, y_pred)\n",
    "print(\"Accuracy:\", accuracy)\n",
    "\n",
    "# Print classification report\n",
    "print(\"Classification Report:\")\n",
    "print(classification_report(y_test, y_pred))"
   ]
  },
  {
   "cell_type": "code",
   "execution_count": 27,
   "metadata": {},
   "outputs": [],
   "source": [
    "# Visualization Function\n",
    "def visualize(test, prediction, classifier, name):\n",
    "    conf_mat_XGB = confusion_matrix(test, prediction)\n",
    "    plt.figure(figsize=(8, 6))\n",
    "    sns.heatmap(conf_mat_XGB, annot=True, fmt='d', cmap=\"Blues\", xticklabels=classifier.classes_, yticklabels=classifier.classes_)\n",
    "    plt.xlabel('Predicted')\n",
    "    plt.ylabel('Actual')\n",
    "    plt.title('Confusion Matrix {0}'.format(name))\n",
    "    plt.show()"
   ]
  },
  {
   "cell_type": "code",
   "execution_count": 40,
   "metadata": {},
   "outputs": [
    {
     "data": {
      "image/png": "[encoded data removed]",
      "text/plain": [
       "<Figure size 800x600 with 2 Axes>"
      ]
     },
     "metadata": {},
     "output_type": "display_data"
    }
   ],
   "source": [
    "visualize(y_test, y_pred, svm_classifier, \"Support Vector Machine\")"
   ]
  },
  {
   "cell_type": "code",
   "execution_count": 37,
   "metadata": {},
   "outputs": [
    {
     "data": {
      "image/png": "[encoded data removed]",
      "text/plain": [
       "<Figure size 800x600 with 2 Axes>"
      ]
     },
     "metadata": {},
     "output_type": "display_data"
    }
   ],
   "source": [
    "conf_matrix = confusion_matrix(y_test_encoded, y_pred_XGB)\n",
    "\n",
    "# Step 2: Plot the confusion matrix\n",
    "plt.figure(figsize=(8, 6))\n",
    "sns.heatmap(conf_matrix, annot=True, cmap='Blues', fmt='d', xticklabels=['Negative', 'Neutral', 'Positive'], yticklabels=['Negative', 'Neutral', 'Positive'])\n",
    "plt.xlabel('Predicted')\n",
    "plt.ylabel('True')\n",
    "plt.title('Confusion Matrix XGBoost')\n",
    "plt.show()"
   ]
  },
  {
   "cell_type": "code",
   "execution_count": null,
   "metadata": {},
   "outputs": [],
   "source": []
  }
 ],
 "metadata": {
  "kernelspec": {
   "display_name": ".venv",
   "language": "python",
   "name": "python3"
  },
  "language_info": {
   "codemirror_mode": {
    "name": "ipython",
    "version": 3
   },
   "file_extension": ".py",
   "mimetype": "text/x-python",
   "name": "python",
   "nbconvert_exporter": "python",
   "pygments_lexer": "ipython3",
   "version": "3.11.0"
  }
 },
 "nbformat": 4,
 "nbformat_minor": 2
}
